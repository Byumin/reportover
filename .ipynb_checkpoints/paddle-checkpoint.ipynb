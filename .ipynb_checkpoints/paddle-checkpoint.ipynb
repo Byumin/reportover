{
 "cells": [
  {
   "cell_type": "code",
   "execution_count": null,
   "id": "3df4d9f2-cd2e-4484-be41-6a3d4ba0d526",
   "metadata": {},
   "outputs": [],
   "source": [
    "!pip install paddlepaddle==2.5.2 -f https://www.paddlepaddle.org.cn/whl/linux/mkl/avx/stable.html\n",
    "!git clone https://github.com/PaddlePaddle/PaddleOCR\n",
    "%cd PaddleOCR\n",
    "!pip install -r requirements.txt"
   ]
  },
  {
   "cell_type": "code",
   "execution_count": null,
   "id": "b81901f1-a93b-4b28-ab91-d2101b0d1a15",
   "metadata": {},
   "outputs": [],
   "source": [
    "!pip install python-docx\n",
    "from paddleocr import PaddleOCR\n",
    "\n",
    "ocr = PaddleOCR(\n",
    "    use_angle_cls=True,\n",
    "    lang='korean',        # 또는 lang='ch' (한자+한글)\n",
    "    det_db_box_thresh=0.5 # 감지 민감도 조절 (옵션)\n",
    ")  # 이 시점에 필요한 모델 자동 다운로드됨"
   ]
  },
  {
   "cell_type": "code",
   "execution_count": null,
   "id": "49549910-722c-4818-a05b-e63a697bf72a",
   "metadata": {},
   "outputs": [],
   "source": []
  }
 ],
 "metadata": {
  "kernelspec": {
   "display_name": "Python [conda env:base] *",
   "language": "python",
   "name": "conda-base-py"
  },
  "language_info": {
   "codemirror_mode": {
    "name": "ipython",
    "version": 3
   },
   "file_extension": ".py",
   "mimetype": "text/x-python",
   "name": "python",
   "nbconvert_exporter": "python",
   "pygments_lexer": "ipython3",
   "version": "3.11.5"
  }
 },
 "nbformat": 4,
 "nbformat_minor": 5
}
