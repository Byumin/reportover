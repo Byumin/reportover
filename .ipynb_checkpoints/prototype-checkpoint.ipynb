{
 "cells": [
  {
   "cell_type": "code",
   "execution_count": 1,
   "id": "fbaebc8c-fec3-433d-85e1-6c58d8d9f917",
   "metadata": {},
   "outputs": [
    {
     "name": "stdout",
     "output_type": "stream",
     "text": [
      "Requirement already satisfied: python-docx in c:\\users\\qndba\\anaconda3\\lib\\site-packages (1.1.2)\n",
      "Requirement already satisfied: lxml>=3.1.0 in c:\\users\\qndba\\anaconda3\\lib\\site-packages (from python-docx) (5.3.1)\n",
      "Requirement already satisfied: typing-extensions>=4.9.0 in c:\\users\\qndba\\anaconda3\\lib\\site-packages (from python-docx) (4.12.2)\n",
      "Requirement already satisfied: paddlepaddle in c:\\users\\qndba\\anaconda3\\lib\\site-packages (3.0.0)\n",
      "Requirement already satisfied: httpx in c:\\users\\qndba\\anaconda3\\lib\\site-packages (from paddlepaddle) (0.27.0)\n",
      "Requirement already satisfied: numpy>=1.21 in c:\\users\\qndba\\anaconda3\\lib\\site-packages (from paddlepaddle) (2.1.3)\n",
      "Requirement already satisfied: protobuf>=3.20.2 in c:\\users\\qndba\\anaconda3\\lib\\site-packages (from paddlepaddle) (6.30.2)\n",
      "Requirement already satisfied: Pillow in c:\\users\\qndba\\anaconda3\\lib\\site-packages (from paddlepaddle) (10.4.0)\n",
      "Requirement already satisfied: decorator in c:\\users\\qndba\\anaconda3\\lib\\site-packages (from paddlepaddle) (5.1.1)\n",
      "Requirement already satisfied: astor in c:\\users\\qndba\\anaconda3\\lib\\site-packages (from paddlepaddle) (0.8.1)\n",
      "Requirement already satisfied: opt-einsum==3.3.0 in c:\\users\\qndba\\anaconda3\\lib\\site-packages (from paddlepaddle) (3.3.0)\n",
      "Requirement already satisfied: networkx in c:\\users\\qndba\\anaconda3\\lib\\site-packages (from paddlepaddle) (3.4.2)\n",
      "Requirement already satisfied: typing-extensions in c:\\users\\qndba\\anaconda3\\lib\\site-packages (from paddlepaddle) (4.12.2)\n",
      "Requirement already satisfied: anyio in c:\\users\\qndba\\anaconda3\\lib\\site-packages (from httpx->paddlepaddle) (4.6.2)\n",
      "Requirement already satisfied: certifi in c:\\users\\qndba\\anaconda3\\lib\\site-packages (from httpx->paddlepaddle) (2025.1.31)\n",
      "Requirement already satisfied: httpcore==1.* in c:\\users\\qndba\\anaconda3\\lib\\site-packages (from httpx->paddlepaddle) (1.0.2)\n",
      "Requirement already satisfied: idna in c:\\users\\qndba\\anaconda3\\lib\\site-packages (from httpx->paddlepaddle) (3.7)\n",
      "Requirement already satisfied: sniffio in c:\\users\\qndba\\anaconda3\\lib\\site-packages (from httpx->paddlepaddle) (1.3.0)\n",
      "Requirement already satisfied: h11<0.15,>=0.13 in c:\\users\\qndba\\anaconda3\\lib\\site-packages (from httpcore==1.*->httpx->paddlepaddle) (0.14.0)\n",
      "Requirement already satisfied: paddleocr in c:\\users\\qndba\\anaconda3\\lib\\site-packages (2.10.0)\n",
      "Requirement already satisfied: shapely in c:\\users\\qndba\\anaconda3\\lib\\site-packages (from paddleocr) (2.1.0)\n",
      "Requirement already satisfied: scikit-image in c:\\users\\qndba\\anaconda3\\lib\\site-packages (from paddleocr) (0.25.2)\n",
      "Requirement already satisfied: pyclipper in c:\\users\\qndba\\anaconda3\\lib\\site-packages (from paddleocr) (1.3.0.post6)\n",
      "Requirement already satisfied: lmdb in c:\\users\\qndba\\anaconda3\\lib\\site-packages (from paddleocr) (1.6.2)\n",
      "Requirement already satisfied: tqdm in c:\\users\\qndba\\anaconda3\\lib\\site-packages (from paddleocr) (4.66.5)\n",
      "Requirement already satisfied: numpy in c:\\users\\qndba\\anaconda3\\lib\\site-packages (from paddleocr) (2.1.3)\n",
      "Requirement already satisfied: rapidfuzz in c:\\users\\qndba\\anaconda3\\lib\\site-packages (from paddleocr) (3.12.2)\n",
      "Requirement already satisfied: opencv-python in c:\\users\\qndba\\anaconda3\\lib\\site-packages (from paddleocr) (4.11.0.86)\n",
      "Requirement already satisfied: opencv-contrib-python in c:\\users\\qndba\\anaconda3\\lib\\site-packages (from paddleocr) (4.11.0.86)\n",
      "Requirement already satisfied: cython in c:\\users\\qndba\\anaconda3\\lib\\site-packages (from paddleocr) (3.0.12)\n",
      "Requirement already satisfied: Pillow in c:\\users\\qndba\\anaconda3\\lib\\site-packages (from paddleocr) (10.4.0)\n",
      "Requirement already satisfied: pyyaml in c:\\users\\qndba\\anaconda3\\lib\\site-packages (from paddleocr) (6.0.1)\n",
      "Requirement already satisfied: python-docx in c:\\users\\qndba\\anaconda3\\lib\\site-packages (from paddleocr) (1.1.2)\n",
      "Requirement already satisfied: beautifulsoup4 in c:\\users\\qndba\\anaconda3\\lib\\site-packages (from paddleocr) (4.12.3)\n",
      "Requirement already satisfied: fonttools>=4.24.0 in c:\\users\\qndba\\anaconda3\\lib\\site-packages (from paddleocr) (4.57.0)\n",
      "Requirement already satisfied: fire>=0.3.0 in c:\\users\\qndba\\anaconda3\\lib\\site-packages (from paddleocr) (0.7.0)\n",
      "Requirement already satisfied: requests in c:\\users\\qndba\\anaconda3\\lib\\site-packages (from paddleocr) (2.32.3)\n",
      "Requirement already satisfied: albumentations in c:\\users\\qndba\\anaconda3\\lib\\site-packages (from paddleocr) (2.0.5)\n",
      "Requirement already satisfied: albucore in c:\\users\\qndba\\anaconda3\\lib\\site-packages (from paddleocr) (0.0.23)\n",
      "Requirement already satisfied: termcolor in c:\\users\\qndba\\anaconda3\\lib\\site-packages (from fire>=0.3.0->paddleocr) (3.0.1)\n",
      "Requirement already satisfied: stringzilla>=3.10.4 in c:\\users\\qndba\\anaconda3\\lib\\site-packages (from albucore->paddleocr) (3.12.3)\n",
      "Requirement already satisfied: simsimd>=5.9.2 in c:\\users\\qndba\\anaconda3\\lib\\site-packages (from albucore->paddleocr) (6.2.1)\n",
      "Requirement already satisfied: opencv-python-headless>=4.9.0.80 in c:\\users\\qndba\\anaconda3\\lib\\site-packages (from albucore->paddleocr) (4.11.0.86)\n",
      "Requirement already satisfied: scipy>=1.10.0 in c:\\users\\qndba\\anaconda3\\lib\\site-packages (from albumentations->paddleocr) (1.15.2)\n",
      "Requirement already satisfied: pydantic>=2.9.2 in c:\\users\\qndba\\anaconda3\\lib\\site-packages (from albumentations->paddleocr) (2.11.1)\n",
      "Requirement already satisfied: soupsieve>1.2 in c:\\users\\qndba\\anaconda3\\lib\\site-packages (from beautifulsoup4->paddleocr) (2.5)\n",
      "Requirement already satisfied: lxml>=3.1.0 in c:\\users\\qndba\\anaconda3\\lib\\site-packages (from python-docx->paddleocr) (5.3.1)\n",
      "Requirement already satisfied: typing-extensions>=4.9.0 in c:\\users\\qndba\\anaconda3\\lib\\site-packages (from python-docx->paddleocr) (4.12.2)\n",
      "Requirement already satisfied: charset-normalizer<4,>=2 in c:\\users\\qndba\\anaconda3\\lib\\site-packages (from requests->paddleocr) (3.3.2)\n",
      "Requirement already satisfied: idna<4,>=2.5 in c:\\users\\qndba\\anaconda3\\lib\\site-packages (from requests->paddleocr) (3.7)\n",
      "Requirement already satisfied: urllib3<3,>=1.21.1 in c:\\users\\qndba\\anaconda3\\lib\\site-packages (from requests->paddleocr) (2.2.3)\n",
      "Requirement already satisfied: certifi>=2017.4.17 in c:\\users\\qndba\\anaconda3\\lib\\site-packages (from requests->paddleocr) (2025.1.31)\n",
      "Requirement already satisfied: networkx>=3.0 in c:\\users\\qndba\\anaconda3\\lib\\site-packages (from scikit-image->paddleocr) (3.4.2)\n",
      "Requirement already satisfied: imageio!=2.35.0,>=2.33 in c:\\users\\qndba\\anaconda3\\lib\\site-packages (from scikit-image->paddleocr) (2.37.0)\n",
      "Requirement already satisfied: tifffile>=2022.8.12 in c:\\users\\qndba\\anaconda3\\lib\\site-packages (from scikit-image->paddleocr) (2025.3.30)\n",
      "Requirement already satisfied: packaging>=21 in c:\\users\\qndba\\anaconda3\\lib\\site-packages (from scikit-image->paddleocr) (24.1)\n",
      "Requirement already satisfied: lazy-loader>=0.4 in c:\\users\\qndba\\anaconda3\\lib\\site-packages (from scikit-image->paddleocr) (0.4)\n",
      "Requirement already satisfied: colorama in c:\\users\\qndba\\anaconda3\\lib\\site-packages (from tqdm->paddleocr) (0.4.6)\n",
      "Requirement already satisfied: annotated-types>=0.6.0 in c:\\users\\qndba\\anaconda3\\lib\\site-packages (from pydantic>=2.9.2->albumentations->paddleocr) (0.6.0)\n",
      "Requirement already satisfied: pydantic-core==2.33.0 in c:\\users\\qndba\\anaconda3\\lib\\site-packages (from pydantic>=2.9.2->albumentations->paddleocr) (2.33.0)\n",
      "Requirement already satisfied: typing-inspection>=0.4.0 in c:\\users\\qndba\\anaconda3\\lib\\site-packages (from pydantic>=2.9.2->albumentations->paddleocr) (0.4.0)\n"
     ]
    }
   ],
   "source": [
    "!pip install python-docx\n",
    "!pip install paddlepaddle\n",
    "!pip install paddleocr"
   ]
  },
  {
   "cell_type": "code",
   "execution_count": 2,
   "id": "70bec85b-0dda-4c53-bf93-690f45fdb57d",
   "metadata": {},
   "outputs": [
    {
     "name": "stdout",
     "output_type": "stream",
     "text": [
      "[2025/04/03 23:46:02] ppocr DEBUG: Namespace(help='==SUPPRESS==', use_gpu=False, use_xpu=False, use_npu=False, use_mlu=False, use_gcu=False, ir_optim=True, use_tensorrt=False, min_subgraph_size=15, precision='fp32', gpu_mem=500, gpu_id=0, image_dir=None, page_num=0, det_algorithm='DB', det_model_dir='C:\\\\Users\\\\qndba/.paddleocr/whl\\\\det\\\\ml\\\\Multilingual_PP-OCRv3_det_infer', det_limit_side_len=960, det_limit_type='max', det_box_type='quad', det_db_thresh=0.3, det_db_box_thresh=0.6, det_db_unclip_ratio=1.5, max_batch_size=10, use_dilation=False, det_db_score_mode='fast', det_east_score_thresh=0.8, det_east_cover_thresh=0.1, det_east_nms_thresh=0.2, det_sast_score_thresh=0.5, det_sast_nms_thresh=0.2, det_pse_thresh=0, det_pse_box_thresh=0.85, det_pse_min_area=16, det_pse_scale=1, scales=[8, 16, 32], alpha=1.0, beta=1.0, fourier_degree=5, rec_algorithm='SVTR_LCNet', rec_model_dir='C:\\\\Users\\\\qndba/.paddleocr/whl\\\\rec\\\\korean\\\\korean_PP-OCRv4_rec_infer', rec_image_inverse=True, rec_image_shape='3, 48, 320', rec_batch_num=6, max_text_length=25, rec_char_dict_path='C:\\\\Users\\\\qndba\\\\anaconda3\\\\envs\\\\paddle_env\\\\lib\\\\site-packages\\\\paddleocr\\\\ppocr\\\\utils\\\\dict\\\\korean_dict.txt', use_space_char=True, vis_font_path='./doc/fonts/simfang.ttf', drop_score=0.5, e2e_algorithm='PGNet', e2e_model_dir=None, e2e_limit_side_len=768, e2e_limit_type='max', e2e_pgnet_score_thresh=0.5, e2e_char_dict_path='./ppocr/utils/ic15_dict.txt', e2e_pgnet_valid_set='totaltext', e2e_pgnet_mode='fast', use_angle_cls=True, cls_model_dir='C:\\\\Users\\\\qndba/.paddleocr/whl\\\\cls\\\\ch_ppocr_mobile_v2.0_cls_infer', cls_image_shape='3, 48, 192', label_list=['0', '180'], cls_batch_num=6, cls_thresh=0.9, enable_mkldnn=False, cpu_threads=10, use_pdserving=False, warmup=False, sr_model_dir=None, sr_image_shape='3, 32, 128', sr_batch_num=1, draw_img_save_dir='./inference_results', save_crop_res=False, crop_res_save_dir='./output', use_mp=False, total_process_num=1, process_id=0, benchmark=False, save_log_path='./log_output/', show_log=True, use_onnx=False, onnx_providers=False, onnx_sess_options=False, return_word_box=False, output='./output', table_max_len=488, table_algorithm='TableAttn', table_model_dir=None, merge_no_span_structure=True, table_char_dict_path=None, formula_algorithm='LaTeXOCR', formula_model_dir=None, formula_char_dict_path=None, formula_batch_num=1, layout_model_dir=None, layout_dict_path=None, layout_score_threshold=0.5, layout_nms_threshold=0.5, kie_algorithm='LayoutXLM', ser_model_dir=None, re_model_dir=None, use_visual_backbone=True, ser_dict_path='../train_data/XFUND/class_list_xfun.txt', ocr_order_method=None, mode='structure', image_orientation=False, layout=True, table=True, formula=False, ocr=True, recovery=False, recovery_to_markdown=False, use_pdf2docx_api=False, invert=False, binarize=False, alphacolor=(255, 255, 255), lang='korean', det=True, rec=True, type='ocr', savefile=False, ocr_version='PP-OCRv4', structure_version='PP-StructureV2')\n"
     ]
    }
   ],
   "source": [
    "from paddleocr import PaddleOCR\n",
    "\n",
    "ocr = PaddleOCR(use_angle_cls=True, lang='korean')"
   ]
  },
  {
   "cell_type": "code",
   "execution_count": 3,
   "id": "2895d863-1881-4514-97a6-f866d0698194",
   "metadata": {},
   "outputs": [
    {
     "name": "stdout",
     "output_type": "stream",
     "text": [
      "Requirement already satisfied: pymupdf in c:\\users\\qndba\\anaconda3\\lib\\site-packages (1.25.5)\n",
      "Requirement already satisfied: pandas in c:\\users\\qndba\\anaconda3\\lib\\site-packages (2.2.3)\n",
      "Requirement already satisfied: numpy>=1.26.0 in c:\\users\\qndba\\anaconda3\\lib\\site-packages (from pandas) (2.1.3)\n",
      "Requirement already satisfied: python-dateutil>=2.8.2 in c:\\users\\qndba\\anaconda3\\lib\\site-packages (from pandas) (2.9.0.post0)\n",
      "Requirement already satisfied: pytz>=2020.1 in c:\\users\\qndba\\anaconda3\\lib\\site-packages (from pandas) (2024.1)\n",
      "Requirement already satisfied: tzdata>=2022.7 in c:\\users\\qndba\\anaconda3\\lib\\site-packages (from pandas) (2024.2)\n",
      "Requirement already satisfied: six>=1.5 in c:\\users\\qndba\\anaconda3\\lib\\site-packages (from python-dateutil>=2.8.2->pandas) (1.16.0)\n"
     ]
    }
   ],
   "source": [
    "!pip install pymupdf\n",
    "!pip install pandas"
   ]
  },
  {
   "cell_type": "code",
   "execution_count": 4,
   "id": "158f1772-bf33-4854-94c2-9b7ea293c8c6",
   "metadata": {},
   "outputs": [
    {
     "name": "stdout",
     "output_type": "stream",
     "text": [
      "Requirement already satisfied: matplotlib in c:\\users\\qndba\\anaconda3\\lib\\site-packages (3.10.1)\n",
      "Requirement already satisfied: contourpy>=1.0.1 in c:\\users\\qndba\\anaconda3\\lib\\site-packages (from matplotlib) (1.3.1)\n",
      "Requirement already satisfied: cycler>=0.10 in c:\\users\\qndba\\anaconda3\\lib\\site-packages (from matplotlib) (0.12.1)\n",
      "Requirement already satisfied: fonttools>=4.22.0 in c:\\users\\qndba\\anaconda3\\lib\\site-packages (from matplotlib) (4.57.0)\n",
      "Requirement already satisfied: kiwisolver>=1.3.1 in c:\\users\\qndba\\anaconda3\\lib\\site-packages (from matplotlib) (1.4.8)\n",
      "Requirement already satisfied: numpy>=1.23 in c:\\users\\qndba\\anaconda3\\lib\\site-packages (from matplotlib) (2.1.3)\n",
      "Requirement already satisfied: packaging>=20.0 in c:\\users\\qndba\\anaconda3\\lib\\site-packages (from matplotlib) (24.1)\n",
      "Requirement already satisfied: pillow>=8 in c:\\users\\qndba\\anaconda3\\lib\\site-packages (from matplotlib) (10.4.0)\n",
      "Requirement already satisfied: pyparsing>=2.3.1 in c:\\users\\qndba\\anaconda3\\lib\\site-packages (from matplotlib) (3.2.3)\n",
      "Requirement already satisfied: python-dateutil>=2.7 in c:\\users\\qndba\\anaconda3\\lib\\site-packages (from matplotlib) (2.9.0.post0)\n",
      "Requirement already satisfied: six>=1.5 in c:\\users\\qndba\\anaconda3\\lib\\site-packages (from python-dateutil>=2.7->matplotlib) (1.16.0)\n",
      "Requirement already satisfied: pdf2image in c:\\users\\qndba\\anaconda3\\lib\\site-packages (1.17.0)\n",
      "Requirement already satisfied: pillow in c:\\users\\qndba\\anaconda3\\lib\\site-packages (from pdf2image) (10.4.0)\n"
     ]
    }
   ],
   "source": [
    "!pip install matplotlib\n",
    "!pip install pdf2image"
   ]
  },
  {
   "cell_type": "code",
   "execution_count": 5,
   "id": "1ecdbeef-ef5f-47b6-86a4-491c45dfc278",
   "metadata": {},
   "outputs": [
    {
     "name": "stdout",
     "output_type": "stream",
     "text": [
      "Collecting pymupdf\n",
      "  Using cached pymupdf-1.25.5-cp39-abi3-win_amd64.whl.metadata (3.4 kB)\n",
      "Collecting pandas\n",
      "  Downloading pandas-2.2.3-cp39-cp39-win_amd64.whl.metadata (19 kB)\n",
      "Collecting numpy>=1.22.4 (from pandas)\n",
      "  Using cached numpy-2.0.2-cp39-cp39-win_amd64.whl.metadata (59 kB)\n",
      "Collecting python-dateutil>=2.8.2 (from pandas)\n",
      "  Using cached python_dateutil-2.9.0.post0-py2.py3-none-any.whl.metadata (8.4 kB)\n",
      "Collecting pytz>=2020.1 (from pandas)\n",
      "  Downloading pytz-2025.2-py2.py3-none-any.whl.metadata (22 kB)\n",
      "Collecting tzdata>=2022.7 (from pandas)\n",
      "  Downloading tzdata-2025.2-py2.py3-none-any.whl.metadata (1.4 kB)\n",
      "Collecting six>=1.5 (from python-dateutil>=2.8.2->pandas)\n",
      "  Using cached six-1.17.0-py2.py3-none-any.whl.metadata (1.7 kB)\n",
      "Using cached pymupdf-1.25.5-cp39-abi3-win_amd64.whl (16.6 MB)\n",
      "Downloading pandas-2.2.3-cp39-cp39-win_amd64.whl (11.6 MB)\n",
      "   ---------------------------------------- 0.0/11.6 MB ? eta -:--:--\n",
      "   ------------------------- -------------- 7.3/11.6 MB 34.9 MB/s eta 0:00:01\n",
      "   ---------------------------------------- 11.6/11.6 MB 38.2 MB/s eta 0:00:00\n",
      "Using cached numpy-2.0.2-cp39-cp39-win_amd64.whl (15.9 MB)\n",
      "Using cached python_dateutil-2.9.0.post0-py2.py3-none-any.whl (229 kB)\n",
      "Downloading pytz-2025.2-py2.py3-none-any.whl (509 kB)\n",
      "Downloading tzdata-2025.2-py2.py3-none-any.whl (347 kB)\n",
      "Using cached six-1.17.0-py2.py3-none-any.whl (11 kB)\n",
      "Installing collected packages: pytz, tzdata, six, pymupdf, numpy, python-dateutil, pandas\n",
      "  Attempting uninstall: six\n",
      "    Found existing installation: six 1.17.0\n",
      "    Uninstalling six-1.17.0:\n",
      "      Successfully uninstalled six-1.17.0\n",
      "  Attempting uninstall: pymupdf\n",
      "    Found existing installation: PyMuPDF 1.25.5\n",
      "    Uninstalling PyMuPDF-1.25.5:\n",
      "      Successfully uninstalled PyMuPDF-1.25.5\n",
      "  Attempting uninstall: numpy\n",
      "    Found existing installation: numpy 2.0.2\n",
      "    Uninstalling numpy-2.0.2:\n",
      "      Successfully uninstalled numpy-2.0.2\n",
      "  Attempting uninstall: python-dateutil\n",
      "    Found existing installation: python-dateutil 2.9.0.post0\n",
      "    Uninstalling python-dateutil-2.9.0.post0:\n",
      "      Successfully uninstalled python-dateutil-2.9.0.post0\n",
      "Successfully installed numpy-2.0.2 pandas-2.2.3 pymupdf-1.25.5 python-dateutil-2.9.0.post0 pytz-2025.2 six-1.17.0 tzdata-2025.2\n"
     ]
    },
    {
     "name": "stderr",
     "output_type": "stream",
     "text": [
      "  WARNING: The script pymupdf.exe is installed in 'C:\\Users\\qndba\\anaconda3\\envs\\paddle_env\\Scripts' which is not on PATH.\n",
      "  Consider adding this directory to PATH or, if you prefer to suppress this warning, use --no-warn-script-location.\n",
      "  WARNING: The scripts f2py.exe and numpy-config.exe are installed in 'C:\\Users\\qndba\\anaconda3\\envs\\paddle_env\\Scripts' which is not on PATH.\n",
      "  Consider adding this directory to PATH or, if you prefer to suppress this warning, use --no-warn-script-location.\n",
      "  WARNING: Failed to remove contents in a temporary directory 'C:\\Users\\qndba\\anaconda3\\envs\\paddle_env\\Lib\\site-packages\\~umpy.libs'.\n",
      "  You can safely remove it manually.\n",
      "  WARNING: Failed to remove contents in a temporary directory 'C:\\Users\\qndba\\anaconda3\\envs\\paddle_env\\Lib\\site-packages\\~umpy'.\n",
      "  You can safely remove it manually.\n"
     ]
    }
   ],
   "source": [
    "# 패키지 설치가 가상환경이 아닌 base 인경우...\n",
    "import sys\n",
    "!{sys.executable} -m pip install --upgrade --force-reinstall pymupdf pandas"
   ]
  },
  {
   "cell_type": "code",
   "execution_count": 6,
   "id": "c29d42d6-0fe0-4610-affc-a8e276232913",
   "metadata": {},
   "outputs": [],
   "source": [
    "# 재실행: PyMuPDF로 PDF에서 텍스트 + 위치 좌표 추출\n",
    "import fitz  # PyMuPDF\n",
    "import pandas as pd\n",
    "\n",
    "# PDF 경로 (업로드된 파일)\n",
    "# pdf_path = \"C:/Users/USER/reportover/학습데이터/kcmii2_false_1.pdf\"\n",
    "pdf_path = \"C:/Users/qndba/reportover/학습데이터/kcmii2_false_1.pdf\"\n",
    "\n",
    "# PDF 열기\n",
    "doc = fitz.open(pdf_path)\n",
    "\n",
    "# 1페이지 기준으로 텍스트 + 좌표 추출\n",
    "page = doc.load_page(0)\n",
    "blocks = page.get_text(\"dict\")['blocks']\n",
    "\n",
    "# 텍스트와 해당 위치(bbox)를 정리\n",
    "text_data = []\n",
    "for b in blocks:\n",
    "    if b['type'] == 0:  # 텍스트 블록일 경우\n",
    "        for line in b['lines']:\n",
    "            for span in line['spans']:\n",
    "                bbox = span['bbox']  # [x0, y0, x1, y1]\n",
    "                text = span['text'].strip()\n",
    "                if text:\n",
    "                    text_data.append({\n",
    "                        'text': text,\n",
    "                        'bbox': bbox\n",
    "                    })\n",
    "\n",
    "df = pd.DataFrame(text_data)"
   ]
  },
  {
   "cell_type": "code",
   "execution_count": 7,
   "id": "ee15c894-98d8-48dd-a9f2-92900a2361fc",
   "metadata": {},
   "outputs": [
    {
     "data": {
      "text/html": [
       "<div>\n",
       "<style scoped>\n",
       "    .dataframe tbody tr th:only-of-type {\n",
       "        vertical-align: middle;\n",
       "    }\n",
       "\n",
       "    .dataframe tbody tr th {\n",
       "        vertical-align: top;\n",
       "    }\n",
       "\n",
       "    .dataframe thead th {\n",
       "        text-align: right;\n",
       "    }\n",
       "</style>\n",
       "<table border=\"1\" class=\"dataframe\">\n",
       "  <thead>\n",
       "    <tr style=\"text-align: right;\">\n",
       "      <th></th>\n",
       "      <th>text</th>\n",
       "      <th>bbox</th>\n",
       "    </tr>\n",
       "  </thead>\n",
       "  <tbody>\n",
       "    <tr>\n",
       "      <th>0</th>\n",
       "      <td>학지고등학교</td>\n",
       "      <td>(46.78799819946289, 162.3569793701172, 102.787...</td>\n",
       "    </tr>\n",
       "    <tr>\n",
       "      <th>1</th>\n",
       "      <td>1 학년 01 반 01번</td>\n",
       "      <td>(156.2050018310547, 162.3569793701172, 230.515...</td>\n",
       "    </tr>\n",
       "    <tr>\n",
       "      <th>2</th>\n",
       "      <td>김진로</td>\n",
       "      <td>(276.3940124511719, 162.3569793701172, 304.794...</td>\n",
       "    </tr>\n",
       "    <tr>\n",
       "      <th>3</th>\n",
       "      <td>남</td>\n",
       "      <td>(376.7409973144531, 162.3569793701172, 386.740...</td>\n",
       "    </tr>\n",
       "    <tr>\n",
       "      <th>4</th>\n",
       "      <td>2024년 12월 05일</td>\n",
       "      <td>(452.1419982910156, 162.3569793701172, 529.421...</td>\n",
       "    </tr>\n",
       "    <tr>\n",
       "      <th>...</th>\n",
       "      <td>...</td>\n",
       "      <td>...</td>\n",
       "    </tr>\n",
       "    <tr>\n",
       "      <th>110</th>\n",
       "      <td>활동선호도</td>\n",
       "      <td>(543.6060180664062, 632.2435302734375, 581.045...</td>\n",
       "    </tr>\n",
       "    <tr>\n",
       "      <th>111</th>\n",
       "      <td>직업선호도</td>\n",
       "      <td>(543.6060180664062, 643.2435302734375, 581.045...</td>\n",
       "    </tr>\n",
       "    <tr>\n",
       "      <th>112</th>\n",
       "      <td>전공교과선호도</td>\n",
       "      <td>(543.6060180664062, 654.2435302734375, 595.765...</td>\n",
       "    </tr>\n",
       "    <tr>\n",
       "      <th>113</th>\n",
       "      <td>해석동영상을 확인하려면</td>\n",
       "      <td>(603.22900390625, 55.220008850097656, 686.6208...</td>\n",
       "    </tr>\n",
       "    <tr>\n",
       "      <th>114</th>\n",
       "      <td>스마트폰으로 스캔하세요.</td>\n",
       "      <td>(601.22900390625, 66.22000885009766, 688.11682...</td>\n",
       "    </tr>\n",
       "  </tbody>\n",
       "</table>\n",
       "<p>115 rows × 2 columns</p>\n",
       "</div>"
      ],
      "text/plain": [
       "              text                                               bbox\n",
       "0           학지고등학교  (46.78799819946289, 162.3569793701172, 102.787...\n",
       "1    1 학년 01 반 01번  (156.2050018310547, 162.3569793701172, 230.515...\n",
       "2              김진로  (276.3940124511719, 162.3569793701172, 304.794...\n",
       "3                남  (376.7409973144531, 162.3569793701172, 386.740...\n",
       "4    2024년 12월 05일  (452.1419982910156, 162.3569793701172, 529.421...\n",
       "..             ...                                                ...\n",
       "110          활동선호도  (543.6060180664062, 632.2435302734375, 581.045...\n",
       "111          직업선호도  (543.6060180664062, 643.2435302734375, 581.045...\n",
       "112        전공교과선호도  (543.6060180664062, 654.2435302734375, 595.765...\n",
       "113   해석동영상을 확인하려면  (603.22900390625, 55.220008850097656, 686.6208...\n",
       "114  스마트폰으로 스캔하세요.  (601.22900390625, 66.22000885009766, 688.11682...\n",
       "\n",
       "[115 rows x 2 columns]"
      ]
     },
     "execution_count": 7,
     "metadata": {},
     "output_type": "execute_result"
    }
   ],
   "source": [
    "df"
   ]
  },
  {
   "cell_type": "code",
   "execution_count": null,
   "id": "2693fa7d-0c6d-4942-854a-40b3affbc4b7",
   "metadata": {},
   "outputs": [],
   "source": [
    "print(pdf_path)"
   ]
  },
  {
   "cell_type": "code",
   "execution_count": null,
   "id": "767f641d-c342-4c69-9776-a0446a9cc116",
   "metadata": {},
   "outputs": [],
   "source": [
    "import matplotlib.pyplot as plt\n",
    "from matplotlib.patches import Rectangle\n",
    "\n",
    "# PDF → 이미지로 변환 (1페이지)\n",
    "from pdf2image import convert_from_path\n",
    "page_image = convert_from_path(pdf_path, dpi=150)[0]  # 낮은 해상도로 빠르게 보기"
   ]
  },
  {
   "cell_type": "code",
   "execution_count": null,
   "id": "41feb9d0-c661-4baa-b8dd-87e3f519ca62",
   "metadata": {},
   "outputs": [],
   "source": [
    "# PDF 페이지 크기 (point 단위) vs 이미지 크기 (pixel 단위) 확인\n",
    "pdf_width, pdf_height = page.rect.width, page.rect.height\n",
    "img_width, img_height = page_image.size\n",
    "print('pdf 높이 :', pdf_width,'pdf 넓이 :', pdf_height)\n",
    "print('image 높이 :', img_width, 'image 넓이 :', img_height)"
   ]
  },
  {
   "cell_type": "code",
   "execution_count": null,
   "id": "61352906-e3ed-44de-9ca2-19b5f70c0c9f",
   "metadata": {},
   "outputs": [],
   "source": [
    "# 스케일 비율 계산 (pt → px 변환)\n",
    "scale_x = img_width / pdf_width\n",
    "scale_y = img_height / pdf_height"
   ]
  },
  {
   "cell_type": "code",
   "execution_count": null,
   "id": "bb77ab5b-3abf-4912-87a6-6c64086849bd",
   "metadata": {},
   "outputs": [],
   "source": [
    "# 시각화\n",
    "fig, ax = plt.subplots(figsize=(12, 16))\n",
    "ax.imshow(page_image)\n",
    "ax.set_title(\"PDF text bbox\")\n",
    "ax.axis('off')\n",
    "\n",
    "# bbox를 이미지 좌표로 변환해서 그리기\n",
    "for entry in text_data:\n",
    "    x0, y0, x1, y1 = entry['bbox']\n",
    "    ix0 = x0 * scale_x\n",
    "    iy0 = y0 * scale_y\n",
    "    ix1 = x1 * scale_x\n",
    "    iy1 = y1 * scale_y\n",
    "\n",
    "    rect = Rectangle(\n",
    "        (ix0, iy0), # 좌상단 좌표\n",
    "        ix1 - ix0, # 너비\n",
    "        iy1 - iy0, # 높이\n",
    "        linewidth=1.5,\n",
    "        edgecolor='red',\n",
    "        facecolor='blue',\n",
    "        alpha=0.5 # 투명도\n",
    "    )\n",
    "    ax.add_patch(rect)\n",
    "    #ax.text(ix0, iy0, entry['text'], fontsize=7, color='blue')\n",
    "\n",
    "plt.tight_layout()\n",
    "plt.show()"
   ]
  },
  {
   "cell_type": "code",
   "execution_count": null,
   "id": "79bc5f12-9f83-4642-8bcb-9c19c88331bb",
   "metadata": {},
   "outputs": [],
   "source": [
    "fig, ax = plt.subplots(figsize=(14, 18))\n",
    "ax.imshow(page_image)\n",
    "ax.set_title(\"target box\")\n",
    "ax.set_xlabel(\"x 좌표 (픽셀)\")\n",
    "ax.set_ylabel(\"y 좌표 (픽셀)\")\n",
    "ax.grid(True)  # 격자 켜기\n",
    "ax.axis('on')  # 눈금 켜기\n",
    "plt.show()"
   ]
  },
  {
   "cell_type": "code",
   "execution_count": null,
   "id": "741342c3-8e06-4592-8fcb-26fdfdb7cff0",
   "metadata": {},
   "outputs": [],
   "source": [
    "df[df['text']=='27.8']['bbox'].values"
   ]
  },
  {
   "cell_type": "code",
   "execution_count": null,
   "id": "8b234a29-c5d7-43d1-8a79-63ce94d28ce6",
   "metadata": {},
   "outputs": [],
   "source": [
    "df[df['text']=='80.5']['bbox'].values"
   ]
  },
  {
   "cell_type": "code",
   "execution_count": null,
   "id": "56026ad3-e07d-415c-8071-b0f0eb6ab2f6",
   "metadata": {},
   "outputs": [],
   "source": [
    "print(df[df['text']=='27.8']['bbox'].values[0][0])\n",
    "print(df[df['text']=='27.8']['bbox'].values[0][2])"
   ]
  },
  {
   "cell_type": "code",
   "execution_count": null,
   "id": "86bfa762-2fe1-476d-b08a-98361ececd10",
   "metadata": {},
   "outputs": [],
   "source": [
    "# 추출해야하는 텍스트 영역 확인\n",
    "# 첫번째 값이 등장하는 좌표 (a0, b0, a1, b1)\n",
    "# 67.77999877929688, 500.9029846191406, 81.5770034790039, 507.9029846191406\n",
    "# 마지막 값이 등장하는 좌표 (x0, y0, x1, y1)\n",
    "# 1134.7410888671875, 500.9029846191406, 1148.5382080078125, 507.9029846191406\n",
    "\n",
    "box_list = [df[df['text']=='27.8']['bbox'].values[0][0], df[df['text']=='27.8']['bbox'].values[0][1],\\\n",
    "            df[df['text']=='80.5']['bbox'].values[0][2], df[df['text']=='80.5']['bbox'].values[0][3]]\n",
    "print(box_list)"
   ]
  },
  {
   "cell_type": "code",
   "execution_count": null,
   "id": "c328e8c4-6ac6-4f01-a88e-ea60fa4d9b01",
   "metadata": {},
   "outputs": [],
   "source": [
    "# 시각화 해서 텍스트 영역이 제대로 되어 있는지 확인\n",
    "# 첫번째 값이 등장하는 좌표 (a0, b0, a1, b1)\n",
    "# 67.77999877929688, 500.9029846191406, 81.5770034790039, 507.9029846191406\n",
    "# 마지막 값이 등장하는 좌표 (x0, y0, x1, y1)\n",
    "# 1134.7410888671875, 500.9029846191406, 1148.5382080078125, 507.9029846191406\n",
    "# 시각화\n",
    "fig, ax = plt.subplots(figsize=(12, 16))\n",
    "ax.imshow(page_image)\n",
    "ax.set_title(\"PDF text bbox\")\n",
    "ax.axis('off')\n",
    "\n",
    "# bbox를 이미지 좌표로 변환해서 그리기\n",
    "# 리스트 한번 더 감싸야 언팩됨\n",
    "for x0, y0, x1, y1 in [box_list]:\n",
    "    print(x0, y0, x1, y1)\n",
    "    ix0 = x0 * scale_x\n",
    "    iy0 = y0 * scale_y\n",
    "    ix1 = x1 * scale_x\n",
    "    iy1 = y1 * scale_y\n",
    "\n",
    "    rect = Rectangle(\n",
    "        (ix0, iy0),\n",
    "        ix1 - ix0,\n",
    "        iy1 - iy0,\n",
    "        linewidth=1,\n",
    "        edgecolor='red',\n",
    "        facecolor='none'\n",
    "    )\n",
    "    ax.add_patch(rect)\n",
    "\n",
    "plt.tight_layout()\n",
    "plt.show()"
   ]
  },
  {
   "cell_type": "code",
   "execution_count": null,
   "id": "2eed9305-c013-40ba-acb6-33d7d637d346",
   "metadata": {},
   "outputs": [],
   "source": [
    "df"
   ]
  },
  {
   "cell_type": "code",
   "execution_count": null,
   "id": "2debd61f-cfa7-4c4b-bcd5-d24001b1afee",
   "metadata": {},
   "outputs": [],
   "source": [
    "# 해당 영역에 포함되는 text 추출하기 위해 bbox 컬럼을 4개 열로 분리\n",
    "df[['x0', 'y0', 'x1', 'y1']] = pd.DataFrame(df['bbox'].tolist(), index=df.index)"
   ]
  },
  {
   "cell_type": "code",
   "execution_count": null,
   "id": "b38ade29-1d37-483f-be35-12e0620dca9e",
   "metadata": {},
   "outputs": [],
   "source": [
    "df"
   ]
  },
  {
   "cell_type": "code",
   "execution_count": null,
   "id": "ad19722b-5da0-4685-a3bd-417ce8e4b473",
   "metadata": {},
   "outputs": [],
   "source": [
    "# box_list(텍스트 추출해야하는 특정 영역) 필터를 걸어서 text 추출\n",
    "x_min, y_min, x_max, y_max = box_list\n",
    "print(x_min, y_min, x_max, y_max)\n",
    "# 해당 영역 데이터 추출\n",
    "df_in_box = df[\n",
    "    (df['x0'] >= x_min) & (df['x0'] <= x_max) &\n",
    "    (df['y0'] >= y_min) & (df['y0'] <= y_max)\n",
    "]"
   ]
  },
  {
   "cell_type": "code",
   "execution_count": null,
   "id": "7c28ae7b-4f28-4c49-a04f-b585efe52bb8",
   "metadata": {},
   "outputs": [],
   "source": [
    "df_in_box['text'].values"
   ]
  },
  {
   "cell_type": "markdown",
   "id": "b0343ee1-1683-438b-8c6a-aec657d84bdc",
   "metadata": {},
   "source": [
    "### pdf 리포트 중 그래프의 수치를 추측할 수 있는 방법 탐색"
   ]
  },
  {
   "cell_type": "code",
   "execution_count": null,
   "id": "cd41a6c6-60e4-4013-a558-c4ae9fc80013",
   "metadata": {},
   "outputs": [],
   "source": [
    "# true pdf에서 이미지 변환 후 그래프 부분 잘라서 학습 데이터로 마련해야함\n",
    "# pdf 결과보고서를 이미지로 변환하는 스스\n",
    "!pip install pdf2image\n",
    "import os\n",
    "from pdf2image import convert_from_path\n",
    "\n",
    "# PDF가 있는 폴더 경로\n",
    "# pdf_folder = \"C:/Users/USER/reportover/학습데이터\"\n",
    "# output_folder = \"C:/Users/USER/reportover/images\"\n",
    "pdf_folder = \"C:/Users/qndba/reportover/학습데이터\"\n",
    "output_folder = \"C:/Users/qndba/reportover/images\"\n",
    "\n",
    "# 폴더가 없으면 생성\n",
    "os.makedirs(output_folder, exist_ok=True)\n",
    "\n",
    "# 모든 PDF 파일을 반복\n",
    "for filename in os.listdir(pdf_folder):\n",
    "    if filename.lower().endswith(\".pdf\"):\n",
    "        pdf_path = os.path.join(pdf_folder, filename)\n",
    "\n",
    "        # 첫 페이지만 변환\n",
    "        images = convert_from_path(pdf_path, dpi=150, first_page=1, last_page=1)\n",
    "\n",
    "        base_name = os.path.splitext(filename)[0]\n",
    "\n",
    "        # 첫 페이지만 저장\n",
    "        img_path = os.path.join(output_folder, f\"{base_name}_p1.png\")\n",
    "        images[0].save(img_path, \"PNG\")\n",
    "        print(f\"저장 완료: {img_path}\")"
   ]
  },
  {
   "cell_type": "code",
   "execution_count": null,
   "id": "10a198b4-d906-48f8-a3c8-fe4af98e20d8",
   "metadata": {},
   "outputs": [],
   "source": [
    "# pdf을 이미지로 변환한 것을 text 추출해야하는 영역 확인\n",
    "\n",
    "# 시각화\n",
    "fig, ax = plt.subplots(figsize=(12, 16))\n",
    "ax.imshow(page_image)\n",
    "ax.set_title(\"PDF text bbox\")\n",
    "ax.axis('off')\n",
    "\n",
    "# bbox를 이미지 좌표로 변환해서 그리기\n",
    "# 리스트 한번 더 감싸야 언팩됨\n",
    "for x0, y0, x1, y1 in [box_list]:\n",
    "    print(x0, y0, x1, y1)\n",
    "    ix0 = x0 * scale_x\n",
    "    iy0 = y0 * scale_y\n",
    "    ix1 = x1 * scale_x\n",
    "    iy1 = y1 * scale_y\n",
    "\n",
    "    rect = Rectangle(\n",
    "        (ix0, iy0),\n",
    "        ix1 - ix0,\n",
    "        iy1 - iy0,\n",
    "        linewidth=5,\n",
    "        edgecolor='red',\n",
    "        facecolor='red',\n",
    "        alpha=0.6\n",
    "    )\n",
    "    ax.add_patch(rect)\n",
    "\n",
    "plt.tight_layout()\n",
    "plt.show()"
   ]
  },
  {
   "cell_type": "code",
   "execution_count": null,
   "id": "db039b33-2937-45d0-bf42-4a1351ad71f4",
   "metadata": {},
   "outputs": [],
   "source": [
    "# 그래프(매칭해야하는 시각화 이미지)를 자르기 위해 영역 탐색\n",
    "crop_box_list = [46.78799819946289, 210.3569793701172, 1148.5382080078125, 380.9029846191406]\n",
    "\n",
    "# 시각화\n",
    "fig, ax = plt.subplots(figsize=(12, 16))\n",
    "ax.imshow(page_image)\n",
    "ax.set_title(\"PDF text bbox\")\n",
    "ax.axis('off')\n",
    "\n",
    "# bbox를 이미지 좌표로 변환해서 그리기\n",
    "# 리스트 한번 더 감싸야 언팩됨\n",
    "for x0, y0, x1, y1 in [crop_box_list]:\n",
    "    print(x0, y0, x1, y1)\n",
    "    ix0 = x0 * scale_x\n",
    "    iy0 = y0 * scale_y\n",
    "    ix1 = x1 * scale_x\n",
    "    iy1 = y1 * scale_y\n",
    "\n",
    "    rect = Rectangle(\n",
    "        (ix0, iy0),\n",
    "        ix1 - ix0,\n",
    "        iy1 - iy0,\n",
    "        linewidth=5,\n",
    "        edgecolor='red',\n",
    "        facecolor='red',\n",
    "        alpha=0.6\n",
    "    )\n",
    "    ax.add_patch(rect)\n",
    "\n",
    "plt.tight_layout()\n",
    "plt.show()"
   ]
  },
  {
   "cell_type": "code",
   "execution_count": null,
   "id": "592c4bd9-b5b0-40d5-8cb8-356bc5303386",
   "metadata": {},
   "outputs": [],
   "source": [
    "import os\n",
    "from PIL import Image, ImageOps\n",
    "\n",
    "# 이미지 폴더 경로\n",
    "# img_folder = r\"C:\\Users\\USER\\reportover\\images\"\n",
    "# output_folder = r\"C:\\Users\\USER\\reportover\\graph_crops\"\n",
    "img_folder = r\"C:\\Users\\qndba\\reportover\\images\"\n",
    "output_folder = r\"C:\\Users\\qndba\\reportover\\graph_crops\"\n",
    "os.makedirs(output_folder, exist_ok=True)\n",
    "\n",
    "# 46개 막대그래프 전체가 포함된 crop 좌표\n",
    "# 너가 측정한 좌표로 바꿔줘야 해\n",
    "crop_box = (ix0, iy0, ix1, iy1)  # 예시\n",
    "\n",
    "# 이미지 반복 처리\n",
    "for filename in os.listdir(img_folder):\n",
    "    if filename.lower().endswith(\".png\"):\n",
    "        img_path = os.path.join(img_folder, filename)\n",
    "        img = Image.open(img_path)\n",
    "\n",
    "        # 전체 그래프 영역 crop\n",
    "        cropped = img.crop(crop_box)\n",
    "\n",
    "        # 흑백 변환\n",
    "        gray = ImageOps.grayscale(cropped)\n",
    "\n",
    "        # 저장\n",
    "        base = os.path.splitext(filename)[0]\n",
    "        save_path = os.path.join(output_folder, f\"{base}_graph.png\")\n",
    "        gray.save(save_path)\n",
    "        print(f\"저장 완료: {save_path}\")"
   ]
  },
  {
   "cell_type": "markdown",
   "id": "0ca96e03-a38a-46f3-b6d8-f24e475dd8cc",
   "metadata": {},
   "source": [
    "### 데이터 세트 및 로더 만들기"
   ]
  },
  {
   "cell_type": "code",
   "execution_count": null,
   "id": "6fb36381-e632-4ef6-9675-952579907e7d",
   "metadata": {},
   "outputs": [],
   "source": [
    "!pip install torch"
   ]
  },
  {
   "cell_type": "code",
   "execution_count": null,
   "id": "55ae65f3-3084-4ba6-8e5f-b3a521092b2b",
   "metadata": {},
   "outputs": [],
   "source": [
    "# 학습할 이미지 파일을 로드하고\n",
    "# 해당 이미지와 매칭되는 정답 데이터를 함께 반환하기 위해서\n",
    "# dataset 클래스 정의\n",
    "from torch.utils.data import Dataset\n",
    "from PIL import Image\n",
    "import torch\n",
    "\n",
    "class GraphDataset(Dataset):\n",
    "    def __init__(self, csv_file, image_dir, transform=None):\n",
    "        self.data = pd.read_csv(csv_file)\n",
    "        self.image_dir = image_dir\n",
    "        self.transform = transform\n",
    "\n",
    "    def __len__(self):\n",
    "        return len(self.data)\n",
    "\n",
    "    def __getitem__(self, idx):\n",
    "        # 이미지 경로\n",
    "        img_name = os.path.join(self.image_dir, self.data.iloc[idx, 0])\n",
    "        image = Image.open(img_name).convert(\"L\")  # 흑백\n",
    "\n",
    "        # 점수 벡터\n",
    "        scores = torch.tensor(self.data.iloc[idx, 1:].values.astype(\"float32\"))\n",
    "\n",
    "        # 전처리\n",
    "        if self.transform:\n",
    "            image = self.transform(image)\n",
    "\n",
    "        return image, scores"
   ]
  },
  {
   "cell_type": "code",
   "execution_count": null,
   "id": "2ed362e5-c82b-4149-ab09-5298d9e9c7f3",
   "metadata": {},
   "outputs": [],
   "source": [
    "import torch"
   ]
  },
  {
   "cell_type": "code",
   "execution_count": null,
   "id": "a44fd650-79b3-4cc2-9a6e-acc30e6b92c4",
   "metadata": {},
   "outputs": [],
   "source": []
  }
 ],
 "metadata": {
  "kernelspec": {
   "display_name": "Python (paddle_env)",
   "language": "python",
   "name": "paddle_env"
  },
  "language_info": {
   "codemirror_mode": {
    "name": "ipython",
    "version": 3
   },
   "file_extension": ".py",
   "mimetype": "text/x-python",
   "name": "python",
   "nbconvert_exporter": "python",
   "pygments_lexer": "ipython3",
   "version": "3.9.21"
  }
 },
 "nbformat": 4,
 "nbformat_minor": 5
}
