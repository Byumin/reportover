{
 "cells": [
  {
   "cell_type": "code",
   "execution_count": 30,
   "id": "64c84139-86ef-49c4-ac6b-9e9d4fb69ed2",
   "metadata": {},
   "outputs": [
    {
     "name": "stdout",
     "output_type": "stream",
     "text": [
      "C:/Users/USER/reportover/학습데이터\\kcmii2_false_1.pdf\n",
      "C:/Users/USER/reportover/학습데이터\\kcmii2_true_1.pdf\n",
      "C:/Users/USER/reportover/학습데이터\\kcmii2_true_10.pdf\n",
      "C:/Users/USER/reportover/학습데이터\\kcmii2_true_11.pdf\n",
      "C:/Users/USER/reportover/학습데이터\\kcmii2_true_12.pdf\n",
      "C:/Users/USER/reportover/학습데이터\\kcmii2_true_13.pdf\n",
      "C:/Users/USER/reportover/학습데이터\\kcmii2_true_14.pdf\n",
      "C:/Users/USER/reportover/학습데이터\\kcmii2_true_15.pdf\n",
      "C:/Users/USER/reportover/학습데이터\\kcmii2_true_2.pdf\n",
      "C:/Users/USER/reportover/학습데이터\\kcmii2_true_3.pdf\n",
      "C:/Users/USER/reportover/학습데이터\\kcmii2_true_4.pdf\n",
      "C:/Users/USER/reportover/학습데이터\\kcmii2_true_5.pdf\n",
      "C:/Users/USER/reportover/학습데이터\\kcmii2_true_6.pdf\n",
      "C:/Users/USER/reportover/학습데이터\\kcmii2_true_7.pdf\n",
      "C:/Users/USER/reportover/학습데이터\\kcmii2_true_8.pdf\n",
      "C:/Users/USER/reportover/학습데이터\\kcmii2_true_9.pdf\n"
     ]
    }
   ],
   "source": [
    "# 재실행: PyMuPDF로 PDF에서 텍스트 + 위치 좌표 추출\n",
    "import fitz  # PyMuPDF\n",
    "import pandas as pd\n",
    "import os\n",
    "import numpy as np\n",
    "\n",
    "# PDF가 있는 폴더 경로\n",
    "pdf_folder = \"C:/Users/USER/reportover/학습데이터\"\n",
    "box_list = [67.77999877929688, 500.9029846191406, 1148.5382080078125, 507.9029846191406]\n",
    "results = []\n",
    "\n",
    "# 모든 PDF 파일을 반복\n",
    "for filename in os.listdir(pdf_folder):\n",
    "    full_path = os.path.join(pdf_folder, filename)\n",
    "    print(full_path)\n",
    "    doc = fitz.open(full_path)\n",
    "\n",
    "    page = doc.load_page(0)\n",
    "    blocks = page.get_text(\"dict\")['blocks'] # pdf 페이지 텍스트 정보를 딕셔너리 형태로 추출 -> blocks에 해당하는 값 가지고 옴\n",
    "\n",
    "    text_data = []\n",
    "    for b in blocks:\n",
    "        if b['type'] == 0: # type 0은 일반적인 텍스트 블록을 의미\n",
    "            for line in b['lines']: # 블록 내부의 텍스트 줄 하나씩 반복\n",
    "                for span in line['spans']: # line안의 글자 단위 span들을 반복, span하나가 보통 단어 또는 문장 일부\n",
    "                    bbox = span['bbox'] # span의 위치정보 (좌표)\n",
    "                    text = span['text'].strip() # 글자 내용에서 양쪽 공백 제거해서 test 저장\n",
    "                    if text: # 텍스트가 비어 있지 않으면 (공백이 아닌 경우)\n",
    "                        text_data.append({ # 추출한 텍스트와 좌표를 딕셔너리 형태로 추가\n",
    "                            'text': text, # append가 딕셔너리도 되는구나?\n",
    "                            'bbox': bbox})\n",
    "    df = pd.DataFrame(text_data)\n",
    "    \n",
    "    # bbox 컬럼을 4개 열로 분리\n",
    "    df[['x0', 'y0', 'x1', 'y1']] = pd.DataFrame(df['bbox'].tolist(), index=df.index)\n",
    "    x_min, y_min, x_max, y_max = box_list\n",
    "    # 해당 영역 데이터 추출\n",
    "    df_in_box = df[\n",
    "        (df['x0'] >= x_min) & (df['x0'] <= x_max) &\n",
    "        (df['y0'] >= y_min) & (df['y0'] <= y_max)\n",
    "    ]\n",
    "    #print(df_in_box['text'].values)\n",
    "    #print(type(df_in_box['text'].values))\n",
    "    #print(df_in_box['text'])\n",
    "    #print(df_in_box['text'].values.ndim)\n",
    "    #print(df_in_box['text'].shape)\n",
    "    # print(len(empty_arr))\n",
    "    # print(len(df_in_box['text'].values))\n",
    "    arr = df_in_box['text'].values\n",
    "    if len(arr) == 50:\n",
    "        results.append(arr)\n",
    "    else :\n",
    "        print('길이 오류')\n",
    "\n",
    "result_arr = np.array(results)"
   ]
  },
  {
   "cell_type": "code",
   "execution_count": 34,
   "id": "ba3104e9-01f0-49c7-adee-82ed38af891c",
   "metadata": {},
   "outputs": [
    {
     "data": {
      "text/plain": [
       "(16, 50)"
      ]
     },
     "execution_count": 34,
     "metadata": {},
     "output_type": "execute_result"
    }
   ],
   "source": [
    "result_arr.shape"
   ]
  },
  {
   "cell_type": "code",
   "execution_count": 38,
   "id": "7d64ec76-29f8-4a58-945f-f5ef8fef2174",
   "metadata": {},
   "outputs": [
    {
     "name": "stdout",
     "output_type": "stream",
     "text": [
      "['kcmii2_false_1.pdf', 'kcmii2_true_1.pdf', 'kcmii2_true_10.pdf', 'kcmii2_true_11.pdf', 'kcmii2_true_12.pdf', 'kcmii2_true_13.pdf', 'kcmii2_true_14.pdf', 'kcmii2_true_15.pdf', 'kcmii2_true_2.pdf', 'kcmii2_true_3.pdf', 'kcmii2_true_4.pdf', 'kcmii2_true_5.pdf', 'kcmii2_true_6.pdf', 'kcmii2_true_7.pdf', 'kcmii2_true_8.pdf', 'kcmii2_true_9.pdf']\n"
     ]
    }
   ],
   "source": [
    "filenames = []\n",
    "for filename in os.listdir(pdf_folder):\n",
    "    filenames.append(filename)\n",
    "print(filenames)"
   ]
  },
  {
   "cell_type": "code",
   "execution_count": 40,
   "id": "6c15a9cd-9fb4-46dd-a543-fac74a5de88c",
   "metadata": {},
   "outputs": [
    {
     "name": "stdout",
     "output_type": "stream",
     "text": [
      "              filename     0     1     2   3   4   5   6     7   8  ...    40  \\\n",
      "0   kcmii2_false_1.pdf  27.8  27.8  27.8  25  25  25  25  33.3  25  ...  47.2   \n",
      "1    kcmii2_true_1.pdf    47    67    50  61  56  61  42    56  53  ...    78   \n",
      "2   kcmii2_true_10.pdf    56    70    64  47  67  69  64    69  58  ...    64   \n",
      "3   kcmii2_true_11.pdf    47    67    50  61  56  61  42    56  53  ...    78   \n",
      "4   kcmii2_true_12.pdf    47    50    56  53  67  56  81    72  50  ...    64   \n",
      "5   kcmii2_true_13.pdf    56    58    67  56  67  64  67    67  53  ...    64   \n",
      "6   kcmii2_true_14.pdf    50    67    70  53  61  53  64    56  50  ...    64   \n",
      "7   kcmii2_true_15.pdf    58    61    53  56  67  61  67    78  58  ...    67   \n",
      "8    kcmii2_true_2.pdf    50    50    56  53  67  56  81    72  50  ...    64   \n",
      "9    kcmii2_true_3.pdf    56    58    67  56  67  64  67    67  53  ...    64   \n",
      "10   kcmii2_true_4.pdf     -     -     -   -   -   -   -     -   -  ...     -   \n",
      "11   kcmii2_true_5.pdf    58    61    53  56  67  61  67    78  58  ...    67   \n",
      "12   kcmii2_true_6.pdf    53    75    64  56  72  64  67    58  50  ...    58   \n",
      "13   kcmii2_true_7.pdf    56    58    67  56  67  64  67    67  53  ...    64   \n",
      "14   kcmii2_true_8.pdf    56    64    67  56  67  64  67    67  50  ...    64   \n",
      "15   kcmii2_true_9.pdf    56    58    64  56  67  64  67    67  53  ...    64   \n",
      "\n",
      "      41  42  43  44    45  46  47  48    49  \n",
      "0   30.6  25  25  25  30.5  25  25  50  80.5  \n",
      "1     75  56  53  56    61  56  47  61    42  \n",
      "2     44  56  58  47    53  56  72  47    47  \n",
      "3     75  56  53  56    61  56  47  61    42  \n",
      "4     58  53  56  58    56  50  47  53    72  \n",
      "5     58  56  58  56    45  64  53  50    67  \n",
      "6     81  44  56  78    58  53  50  67    47  \n",
      "7     58  58  53  56    61  53  58  42    69  \n",
      "8     36  53  56  58    56  50  44  53    72  \n",
      "9     58  56  58  56    45  64  53  50    67  \n",
      "10     -   -   -   -     -   -   -   -     -  \n",
      "11    58  58  53  56    61  53  58  42    69  \n",
      "12    56  53  53  56    44  70  44  53    70  \n",
      "13    58  56  58  56    45  64  53  50    67  \n",
      "14    58  53  53  56    45  64  53  50    67  \n",
      "15    58  56  58  56    45  64  53  50    67  \n",
      "\n",
      "[16 rows x 51 columns]\n"
     ]
    }
   ],
   "source": [
    "df = pd.DataFrame(result_arr)\n",
    "df.insert(0, 'filename', filenames)\n",
    "\n",
    "print(df)"
   ]
  },
  {
   "cell_type": "code",
   "execution_count": 42,
   "id": "e10f2328-8043-4b10-b326-576787281a6d",
   "metadata": {},
   "outputs": [],
   "source": [
    "df.to_csv('graph_scores.csv', index=False)"
   ]
  },
  {
   "cell_type": "code",
   "execution_count": null,
   "id": "a331f6bd-f5a3-453b-9221-6f8dde05c38d",
   "metadata": {},
   "outputs": [],
   "source": []
  }
 ],
 "metadata": {
  "kernelspec": {
   "display_name": "PaddleOCR 환경",
   "language": "python",
   "name": "paddle_env"
  },
  "language_info": {
   "codemirror_mode": {
    "name": "ipython",
    "version": 3
   },
   "file_extension": ".py",
   "mimetype": "text/x-python",
   "name": "python",
   "nbconvert_exporter": "python",
   "pygments_lexer": "ipython3",
   "version": "3.10.16"
  }
 },
 "nbformat": 4,
 "nbformat_minor": 5
}
