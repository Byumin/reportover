{
 "cells": [
  {
   "cell_type": "code",
   "execution_count": 50,
   "id": "64c84139-86ef-49c4-ac6b-9e9d4fb69ed2",
   "metadata": {},
   "outputs": [
    {
     "name": "stdout",
     "output_type": "stream",
     "text": [
      "C:/Users/USER/reportover/학습데이터\\kcmii2_false_1.pdf\n",
      "50\n",
      "50\n",
      "C:/Users/USER/reportover/학습데이터\\kcmii2_true_1.pdf\n",
      "50\n",
      "50\n"
     ]
    },
    {
     "ename": "ValueError",
     "evalue": "all input arrays must have the same shape",
     "output_type": "error",
     "traceback": [
      "\u001b[1;31m---------------------------------------------------------------------------\u001b[0m",
      "\u001b[1;31mValueError\u001b[0m                                Traceback (most recent call last)",
      "Cell \u001b[1;32mIn[50], line 45\u001b[0m\n\u001b[0;32m     43\u001b[0m     \u001b[38;5;28mprint\u001b[39m(\u001b[38;5;28mlen\u001b[39m(empty_arr))\n\u001b[0;32m     44\u001b[0m     \u001b[38;5;28mprint\u001b[39m(\u001b[38;5;28mlen\u001b[39m(df_in_box[\u001b[38;5;124m'\u001b[39m\u001b[38;5;124mtext\u001b[39m\u001b[38;5;124m'\u001b[39m]\u001b[38;5;241m.\u001b[39mvalues))\n\u001b[1;32m---> 45\u001b[0m     empty_arr \u001b[38;5;241m=\u001b[39m \u001b[43mnp\u001b[49m\u001b[38;5;241;43m.\u001b[39;49m\u001b[43mstack\u001b[49m\u001b[43m(\u001b[49m\u001b[43m(\u001b[49m\u001b[43mempty_arr\u001b[49m\u001b[43m,\u001b[49m\u001b[43m \u001b[49m\u001b[43mdf_in_box\u001b[49m\u001b[43m[\u001b[49m\u001b[38;5;124;43m'\u001b[39;49m\u001b[38;5;124;43mtext\u001b[39;49m\u001b[38;5;124;43m'\u001b[39;49m\u001b[43m]\u001b[49m\u001b[38;5;241;43m.\u001b[39;49m\u001b[43mvalues\u001b[49m\u001b[43m)\u001b[49m\u001b[43m,\u001b[49m\u001b[43m \u001b[49m\u001b[43maxis\u001b[49m\u001b[38;5;241;43m=\u001b[39;49m\u001b[38;5;241;43m1\u001b[39;49m\u001b[43m)\u001b[49m\n\u001b[0;32m     46\u001b[0m \u001b[38;5;28mprint\u001b[39m(empty_arr)\n",
      "File \u001b[1;32m~\\anaconda3\\envs\\paddle_env\\lib\\site-packages\\numpy\\_core\\shape_base.py:460\u001b[0m, in \u001b[0;36mstack\u001b[1;34m(arrays, axis, out, dtype, casting)\u001b[0m\n\u001b[0;32m    458\u001b[0m shapes \u001b[38;5;241m=\u001b[39m {arr\u001b[38;5;241m.\u001b[39mshape \u001b[38;5;28;01mfor\u001b[39;00m arr \u001b[38;5;129;01min\u001b[39;00m arrays}\n\u001b[0;32m    459\u001b[0m \u001b[38;5;28;01mif\u001b[39;00m \u001b[38;5;28mlen\u001b[39m(shapes) \u001b[38;5;241m!=\u001b[39m \u001b[38;5;241m1\u001b[39m:\n\u001b[1;32m--> 460\u001b[0m     \u001b[38;5;28;01mraise\u001b[39;00m \u001b[38;5;167;01mValueError\u001b[39;00m(\u001b[38;5;124m'\u001b[39m\u001b[38;5;124mall input arrays must have the same shape\u001b[39m\u001b[38;5;124m'\u001b[39m)\n\u001b[0;32m    462\u001b[0m result_ndim \u001b[38;5;241m=\u001b[39m arrays[\u001b[38;5;241m0\u001b[39m]\u001b[38;5;241m.\u001b[39mndim \u001b[38;5;241m+\u001b[39m \u001b[38;5;241m1\u001b[39m\n\u001b[0;32m    463\u001b[0m axis \u001b[38;5;241m=\u001b[39m normalize_axis_index(axis, result_ndim)\n",
      "\u001b[1;31mValueError\u001b[0m: all input arrays must have the same shape"
     ]
    }
   ],
   "source": [
    "# 재실행: PyMuPDF로 PDF에서 텍스트 + 위치 좌표 추출\n",
    "import fitz  # PyMuPDF\n",
    "import pandas as pd\n",
    "import os\n",
    "import numpy as np\n",
    "\n",
    "# PDF가 있는 폴더 경로\n",
    "pdf_folder = \"C:/Users/USER/reportover/학습데이터\"\n",
    "box_list = [67.77999877929688, 500.9029846191406, 1148.5382080078125, 507.9029846191406]\n",
    "empty_arr = np.array([1,2,3,4,5,6,7,8,9,10,11,12,13,14,15,16,17,18,19,20,21,22,23,24,25,26,27,28,29,30,31,32,33,34,35,36,37,38,39,40,41,42,43,44,45,46,47,48,49,50])\n",
    "\n",
    "# 모든 PDF 파일을 반복\n",
    "for filename in os.listdir(pdf_folder):\n",
    "    full_path = os.path.join(pdf_folder, filename)\n",
    "    print(full_path)\n",
    "    doc = fitz.open(full_path)\n",
    "\n",
    "    page = doc.load_page(0)\n",
    "    blocks = page.get_text(\"dict\")['blocks']\n",
    "\n",
    "    text_data = []\n",
    "    for b in blocks:\n",
    "        if b['type'] == 0:\n",
    "            for line in b['lines']:\n",
    "                for span in line['spans']:\n",
    "                    bbox = span['bbox']\n",
    "                    text = span['text'].strip()\n",
    "                    if text:\n",
    "                        text_data.append({\n",
    "                            'text': text,\n",
    "                            'bbox': bbox})\n",
    "    df = pd.DataFrame(text_data)\n",
    "    \n",
    "    # bbox 컬럼을 4개 열로 분리\n",
    "    df[['x0', 'y0', 'x1', 'y1']] = pd.DataFrame(df['bbox'].tolist(), index=df.index)\n",
    "    x_min, y_min, x_max, y_max = box_list\n",
    "    # 해당 영역 데이터 추출\n",
    "    df_in_box = df[\n",
    "        (df['x0'] >= x_min) & (df['x0'] <= x_max) &\n",
    "        (df['y0'] >= y_min) & (df['y0'] <= y_max)\n",
    "    ]\n",
    "    #print(df_in_box['text'].values)\n",
    "    print(len(empty_arr))\n",
    "    print(len(df_in_box['text'].values))\n",
    "    empty_arr = np.stack((empty_arr, df_in_box['text'].values), axis=1)\n",
    "print(empty_arr)"
   ]
  },
  {
   "cell_type": "code",
   "execution_count": 51,
   "id": "7b1bef1a-5c20-46ba-b51a-becaf5c777ef",
   "metadata": {},
   "outputs": [
    {
     "data": {
      "text/plain": [
       "array([[1, '27.8'],\n",
       "       [2, '27.8'],\n",
       "       [3, '27.8'],\n",
       "       [4, '25'],\n",
       "       [5, '25'],\n",
       "       [6, '25'],\n",
       "       [7, '25'],\n",
       "       [8, '33.3'],\n",
       "       [9, '25'],\n",
       "       [10, '25'],\n",
       "       [11, '33.3'],\n",
       "       [12, '25'],\n",
       "       [13, '25'],\n",
       "       [14, '25'],\n",
       "       [15, '66.7'],\n",
       "       [16, '50'],\n",
       "       [17, '25'],\n",
       "       [18, '25'],\n",
       "       [19, '25'],\n",
       "       [20, '25'],\n",
       "       [21, '25'],\n",
       "       [22, '25'],\n",
       "       [23, '25'],\n",
       "       [24, '25'],\n",
       "       [25, '66.7'],\n",
       "       [26, '44.4'],\n",
       "       [27, '66.7'],\n",
       "       [28, '38.9'],\n",
       "       [29, '25'],\n",
       "       [30, '25'],\n",
       "       [31, '100'],\n",
       "       [32, '77.8'],\n",
       "       [33, '94.5'],\n",
       "       [34, '69.5'],\n",
       "       [35, '75'],\n",
       "       [36, '30.5'],\n",
       "       [37, '30.6'],\n",
       "       [38, '55.5'],\n",
       "       [39, '44.5'],\n",
       "       [40, '47.2'],\n",
       "       [41, '47.2'],\n",
       "       [42, '30.6'],\n",
       "       [43, '25'],\n",
       "       [44, '25'],\n",
       "       [45, '25'],\n",
       "       [46, '30.5'],\n",
       "       [47, '25'],\n",
       "       [48, '25'],\n",
       "       [49, '50'],\n",
       "       [50, '80.5']], dtype=object)"
      ]
     },
     "execution_count": 51,
     "metadata": {},
     "output_type": "execute_result"
    }
   ],
   "source": [
    "empty_arr"
   ]
  },
  {
   "cell_type": "code",
   "execution_count": 52,
   "id": "7d64ec76-29f8-4a58-945f-f5ef8fef2174",
   "metadata": {},
   "outputs": [
    {
     "data": {
      "text/plain": [
       "50"
      ]
     },
     "execution_count": 52,
     "metadata": {},
     "output_type": "execute_result"
    }
   ],
   "source": [
    "len(empty_arr)"
   ]
  },
  {
   "cell_type": "code",
   "execution_count": null,
   "id": "4bf1128c-d49a-444f-8431-7ad481973b2e",
   "metadata": {},
   "outputs": [],
   "source": [
    "# PDF 열기\n",
    "doc = fitz.open(pdf_path)\n",
    "\n",
    "# 1페이지 기준으로 텍스트 + 좌표 추출\n",
    "page = doc.load_page(0)\n",
    "blocks = page.get_text(\"dict\")['blocks']\n",
    "\n",
    "# 텍스트와 해당 위치(bbox)를 정리\n",
    "text_data = []\n",
    "for b in blocks:\n",
    "    if b['type'] == 0:  # 텍스트 블록일 경우\n",
    "        for line in b['lines']:\n",
    "            for span in line['spans']:\n",
    "                bbox = span['bbox']  # [x0, y0, x1, y1]\n",
    "                text = span['text'].strip()\n",
    "                if text:\n",
    "                    text_data.append({\n",
    "                        'text': text,\n",
    "                        'bbox': bbox\n",
    "                    })\n",
    "\n",
    "df = pd.DataFrame(text_data)"
   ]
  }
 ],
 "metadata": {
  "kernelspec": {
   "display_name": "PaddleOCR 환경",
   "language": "python",
   "name": "paddle_env"
  },
  "language_info": {
   "codemirror_mode": {
    "name": "ipython",
    "version": 3
   },
   "file_extension": ".py",
   "mimetype": "text/x-python",
   "name": "python",
   "nbconvert_exporter": "python",
   "pygments_lexer": "ipython3",
   "version": "3.10.16"
  }
 },
 "nbformat": 4,
 "nbformat_minor": 5
}
